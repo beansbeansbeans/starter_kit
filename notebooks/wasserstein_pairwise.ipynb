{
 "cells": [
  {
   "cell_type": "code",
   "execution_count": 20,
   "metadata": {
    "collapsed": true
   },
   "outputs": [],
   "source": [
    "from scipy.stats import wasserstein_distance\n",
    "import numpy as np\n",
    "import pandas as pd"
   ]
  },
  {
   "cell_type": "code",
   "execution_count": 21,
   "metadata": {
    "collapsed": true
   },
   "outputs": [],
   "source": [
    "encodings = [\n",
    "    np.array(pd.DataFrame(pd.read_json('../data/encodings_pca_10.json'))),\n",
    "    np.array(pd.DataFrame(pd.read_json('../data/encodings_pca_50.json'))),\n",
    "    np.array(pd.DataFrame(pd.read_json('../data/encodings_pca_100.json')))]"
   ]
  },
  {
   "cell_type": "code",
   "execution_count": 26,
   "metadata": {
    "collapsed": false
   },
   "outputs": [
    {
     "name": "stdout",
     "output_type": "stream",
     "text": [
      "i'm going to give it a thumbs up . i liked it .\n"
     ]
    }
   ],
   "source": [
    "import json\n",
    "\n",
    "sentenceDict = {}\n",
    "\n",
    "print(encodings[0][0][2])\n",
    "\n",
    "for x in range(len(encodings[0])):\n",
    "    sentenceDict[encodings[0][x][2]] = x\n",
    "\n",
    "with open('../data/sentence_to_index.json', 'w') as f:\n",
    "    f.write((json.dumps(sentenceDict)))"
   ]
  },
  {
   "cell_type": "code",
   "execution_count": 30,
   "metadata": {
    "collapsed": false
   },
   "outputs": [],
   "source": [
    "num_sentences = len(encodings[0])\n",
    "\n",
    "targets = [\n",
    "  \"there's nothing remotely topical or sexy here .\",\n",
    "  \"simplistic , silly and tedious .\",\n",
    "  \"grant carries the day with impeccable comic timing , raffish charm and piercing intellect .\",\n",
    "  \"an engrossing iranian film about two itinerant teachers and some lost and desolate people they encounter in a place where war has savaged the lives and liberties of the poor and the dispossessed .\",\n",
    "  \"lan yu is a genuine love story , full of traditional layers of awakening and ripening and separation and recovery .\",\n",
    "  \"silly stuff , all mixed up together like a term paper from a kid who can't quite distinguish one sci-fi work from another .\",\n",
    "  \"a tour de force of modern cinema .\",\n",
    "  \"banal and predictable .\",\n",
    "  \"i'm going to give it a marginal thumbs up . i liked it just enough .\"\n",
    "]\n",
    "\n",
    "distances = {}\n",
    "\n",
    "dimArr = [10, 50, 100]\n",
    "dimensions = 0\n",
    "\n",
    "for i in range(len(targets)):\n",
    "    index = sentenceDict[targets[i]]\n",
    "    sourceEncoding = encodings[dimensions][index][0]\n",
    "    distances[index] = {}\n",
    "    for j in range(num_sentences):\n",
    "        targetIndex = sentenceDict[encodings[dimensions][j][2]]\n",
    "        distances[index][targetIndex] = wasserstein_distance(encodings[dimensions][j][0], sourceEncoding)\n",
    "\n",
    "with open('../data/pairwise_wasserstein_' + str(dimArr[dimensions]) + '.json', 'w') as f:\n",
    "    f.write((json.dumps(distances)))"
   ]
  },
  {
   "cell_type": "code",
   "execution_count": null,
   "metadata": {
    "collapsed": true
   },
   "outputs": [],
   "source": []
  }
 ],
 "metadata": {
  "kernelspec": {
   "display_name": "Python 3",
   "language": "python",
   "name": "python3"
  },
  "language_info": {
   "codemirror_mode": {
    "name": "ipython",
    "version": 3
   },
   "file_extension": ".py",
   "mimetype": "text/x-python",
   "name": "python",
   "nbconvert_exporter": "python",
   "pygments_lexer": "ipython3",
   "version": "3.5.2"
  }
 },
 "nbformat": 4,
 "nbformat_minor": 0
}
