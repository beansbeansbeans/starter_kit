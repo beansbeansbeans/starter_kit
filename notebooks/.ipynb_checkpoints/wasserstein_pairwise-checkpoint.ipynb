{
 "cells": [
  {
   "cell_type": "code",
   "execution_count": 1,
   "metadata": {
    "collapsed": true
   },
   "outputs": [],
   "source": [
    "from scipy.stats import wasserstein_distance\n",
    "import numpy as np\n",
    "import pandas as pd"
   ]
  },
  {
   "cell_type": "code",
   "execution_count": 3,
   "metadata": {
    "collapsed": true
   },
   "outputs": [],
   "source": [
    "encodings = [\n",
    "    np.array(pd.DataFrame(pd.read_json('../data/encodings_pca_10.json'))),\n",
    "    np.array(pd.DataFrame(pd.read_json('../data/encodings_pca_50.json'))),\n",
    "    np.array(pd.DataFrame(pd.read_json('../data/encodings_pca_100.json')))]"
   ]
  },
  {
   "cell_type": "code",
   "execution_count": 11,
   "metadata": {
    "collapsed": false
   },
   "outputs": [
    {
     "name": "stdout",
     "output_type": "stream",
     "text": [
      "[0.389696478843688, -0.18423543870449002, -0.030247837305068002, -0.15941439568996402, 0.09830526262521701, -0.14148166775703402, -0.054005220532417006, 0.07985530793666801, -0.008290145546197001, 0.05876749008893901]\n"
     ]
    }
   ],
   "source": [
    "import json\n",
    "\n",
    "sentenceDict = {}\n",
    "\n",
    "print(encodings[0][0][0])\n",
    "\n",
    "for x in range(len(encodings[0])):\n",
    "    sentenceDict[encodings[0][x][3]] = x\n",
    "\n",
    "with open('../data/sentence_to_index.json', 'w') as f:\n",
    "    f.write((json.dumps(sentenceDict)))"
   ]
  },
  {
   "cell_type": "code",
   "execution_count": 16,
   "metadata": {
    "collapsed": false
   },
   "outputs": [
    {
     "ename": "KeyError",
     "evalue": "'simplistic , silly and tedious'",
     "output_type": "error",
     "traceback": [
      "\u001b[0;31m---------------------------------------------------------------------------\u001b[0m",
      "\u001b[0;31mKeyError\u001b[0m                                  Traceback (most recent call last)",
      "\u001b[0;32m<ipython-input-16-1bb6c3226cd1>\u001b[0m in \u001b[0;36m<module>\u001b[0;34m()\u001b[0m\n\u001b[1;32m     16\u001b[0m \u001b[0;34m\u001b[0m\u001b[0m\n\u001b[1;32m     17\u001b[0m \u001b[0;32mfor\u001b[0m \u001b[0mi\u001b[0m \u001b[0;32min\u001b[0m \u001b[0mrange\u001b[0m\u001b[0;34m(\u001b[0m\u001b[0mlen\u001b[0m\u001b[0;34m(\u001b[0m\u001b[0mtargets\u001b[0m\u001b[0;34m)\u001b[0m\u001b[0;34m)\u001b[0m\u001b[0;34m:\u001b[0m\u001b[0;34m\u001b[0m\u001b[0m\n\u001b[0;32m---> 18\u001b[0;31m     \u001b[0mindex\u001b[0m \u001b[0;34m=\u001b[0m \u001b[0msentenceDict\u001b[0m\u001b[0;34m[\u001b[0m\u001b[0mtargets\u001b[0m\u001b[0;34m[\u001b[0m\u001b[0mi\u001b[0m\u001b[0;34m]\u001b[0m\u001b[0;34m]\u001b[0m\u001b[0;34m\u001b[0m\u001b[0m\n\u001b[0m\u001b[1;32m     19\u001b[0m     \u001b[0msourceEncoding\u001b[0m \u001b[0;34m=\u001b[0m \u001b[0mencodings\u001b[0m\u001b[0;34m[\u001b[0m\u001b[0;36m0\u001b[0m\u001b[0;34m]\u001b[0m\u001b[0;34m[\u001b[0m\u001b[0mindex\u001b[0m\u001b[0;34m]\u001b[0m\u001b[0;34m[\u001b[0m\u001b[0;36m0\u001b[0m\u001b[0;34m]\u001b[0m\u001b[0;34m\u001b[0m\u001b[0m\n\u001b[1;32m     20\u001b[0m     \u001b[0mdistances\u001b[0m\u001b[0;34m[\u001b[0m\u001b[0mindex\u001b[0m\u001b[0;34m]\u001b[0m \u001b[0;34m=\u001b[0m \u001b[0;34m{\u001b[0m\u001b[0;34m}\u001b[0m\u001b[0;34m\u001b[0m\u001b[0m\n",
      "\u001b[0;31mKeyError\u001b[0m: 'simplistic , silly and tedious'"
     ]
    }
   ],
   "source": [
    "num_sentences = len(encodings[0])\n",
    "\n",
    "targets = [\n",
    "  \"there's nothing remotely topical or sexy here .\",\n",
    "  \"simplistic , silly and tedious .\",\n",
    "  \"grant carries the day with impeccable comic timing , raffish charm and piercing intellect .\",\n",
    "  \"an engrossing iranian film about two itinerant teachers and some lost and desolate people they encounter in a place where war has savaged the lives and liberties of the poor and the dispossessed .\",\n",
    "  \"lan yu is a genuine love story , full of traditional layers of awakening and ripening and separation and recovery .\",\n",
    "  \"silly stuff , all mixed up together like a term paper from a kid who can't quite distinguish one sci-fi work from another .\",\n",
    "  \"a tour de force of modern cinema .\",\n",
    "  \"banal and predictable .\",\n",
    "  \"i'm going to give it a marginal thumbs up . i liked it just enough .\"\n",
    "]\n",
    "\n",
    "distances = {}\n",
    "\n",
    "for i in range(len(targets)):\n",
    "    index = sentenceDict[targets[i]]\n",
    "    sourceEncoding = encodings[0][index][0]\n",
    "    distances[index] = {}\n",
    "    for j in range(num_sentences):\n",
    "        targetIndex = sentenceDict[encodings[0][j][3]]\n",
    "        distances[index][targetIndex] = wasserstein_distance(encodings[0][j][0], sourceEncoding)\n",
    "\n",
    "with open('../data/pairwise_wasserstein_10.json', 'w') as f:\n",
    "    f.write((json.dumps(distances)))"
   ]
  },
  {
   "cell_type": "code",
   "execution_count": null,
   "metadata": {
    "collapsed": true
   },
   "outputs": [],
   "source": []
  }
 ],
 "metadata": {
  "kernelspec": {
   "display_name": "Python 3",
   "language": "python",
   "name": "python3"
  },
  "language_info": {
   "codemirror_mode": {
    "name": "ipython",
    "version": 3
   },
   "file_extension": ".py",
   "mimetype": "text/x-python",
   "name": "python",
   "nbconvert_exporter": "python",
   "pygments_lexer": "ipython3",
   "version": "3.5.2"
  }
 },
 "nbformat": 4,
 "nbformat_minor": 0
}
