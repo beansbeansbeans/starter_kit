{
 "cells": [
  {
   "cell_type": "code",
   "execution_count": 1,
   "metadata": {
    "collapsed": true
   },
   "outputs": [],
   "source": [
    "from scipy.stats import wasserstein_distance\n",
    "import numpy as np\n",
    "import pandas as pd"
   ]
  },
  {
   "cell_type": "code",
   "execution_count": 2,
   "metadata": {
    "collapsed": true
   },
   "outputs": [],
   "source": [
    "encodings = [\n",
    "    np.array(pd.DataFrame(pd.read_json('../data/encodings_pca_10.json'))),\n",
    "    np.array(pd.DataFrame(pd.read_json('../data/encodings_pca_50.json'))),\n",
    "    np.array(pd.DataFrame(pd.read_json('../data/encodings_pca_100.json')))]"
   ]
  },
  {
   "cell_type": "code",
   "execution_count": 3,
   "metadata": {
    "collapsed": false
   },
   "outputs": [
    {
     "name": "stdout",
     "output_type": "stream",
     "text": [
      "i'm going to give it a thumbs up . i liked it .\n"
     ]
    }
   ],
   "source": [
    "import json\n",
    "\n",
    "sentenceDict = {}\n",
    "\n",
    "print(encodings[0][0][2])\n",
    "\n",
    "for x in range(len(encodings[0])):\n",
    "    sentenceDict[encodings[0][x][2]] = x"
   ]
  },
  {
   "cell_type": "code",
   "execution_count": 4,
   "metadata": {
    "collapsed": true
   },
   "outputs": [],
   "source": [
    "base = [\n",
    "    \"i'm going to give it a marginal thumbs up . i liked it just enough .\",\n",
    "    \"a deliciously nonsensical comedy about a city coming apart at its seams .\"\n",
    "]\n",
    "\n",
    "perms = [\n",
    "    [\n",
    "        \"i'm\",\n",
    "        \"i'm going\",\n",
    "        \"i'm going to\",\n",
    "        \"i'm going to give\",\n",
    "        \"i'm going to give it\",\n",
    "        \"i'm going to give it a\",\n",
    "        \"i'm going to give it a marginal\",\n",
    "        \"i'm going to give it a marginal thumbs\",\n",
    "        \"i'm going to give it a marginal thumbs up\",\n",
    "        \"i'm going to give it a marginal thumbs up .\",\n",
    "        \"i'm going to give it a marginal thumbs up . i\",\n",
    "        \"i'm going to give it a marginal thumbs up . i liked\",\n",
    "        \"i'm going to give it a marginal thumbs up . i liked it\",\n",
    "        \"i'm going to give it a marginal thumbs up . i liked it just\",\n",
    "        \"i'm going to give it a marginal thumbs up . i liked it just enough\",\n",
    "        \"i'm going to give it a marginal thumbs up . i liked it just enough .\",\n",
    "        \"enough .\",\n",
    "        \"just enough .\",\n",
    "        \"it just enough .\",\n",
    "        \"liked it just enough .\",\n",
    "        \"i liked it just enough .\",\n",
    "        \". i liked it just enough .\",\n",
    "        \"up . i liked it just enough .\",\n",
    "        \"thumbs up . i liked it just enough .\",\n",
    "        \"marginal thumbs up . i liked it just enough .\",\n",
    "        \"a marginal thumbs up . i liked it just enough .\",\n",
    "        \"it a marginal thumbs up . i liked it just enough .\",\n",
    "        \"give it a marginal thumbs up . i liked it just enough .\",\n",
    "        \"to give it a marginal thumbs up . i liked it just enough .\",\n",
    "        \"going to give it a marginal thumbs up . i liked it just enough .\",\n",
    "        \"i'm going to give it a marginal thumbs up . i liked it just enough .\",\n",
    "        \"i'm give a going to it thumbs . up marginal i just it liked enough .\",\n",
    "        \"i'm give a going to it thumbs . up marginal i it just liked enough .\",\n",
    "        \"i'm give a going to it thumbs . marginal up i it just liked enough .\",\n",
    "        \"i'm give going a to it thumbs . marginal up i it just liked enough .\",\n",
    "        \"i'm give going a to it thumbs marginal . up i it just liked enough .\",\n",
    "        \"i'm give going a to it thumbs marginal . up i it liked just enough .\",\n",
    "        \"i'm going give a to it thumbs marginal . up i it liked just enough .\",\n",
    "        \"i'm going give a to it marginal thumbs . up i it liked just enough .\",\n",
    "        \"going i'm give a to it marginal thumbs . up i it liked just enough .\",\n",
    "        \"going i'm give to a it marginal thumbs . up i it liked just enough .\",\n",
    "        \"going i'm give to a it marginal thumbs . up i it liked just . enough\",\n",
    "        \"going i'm give to it a marginal thumbs . up i it liked just . enough\",\n",
    "        \"i'm going give to it a marginal thumbs . up i it liked just . enough\",\n",
    "        \"i'm going give to it a marginal thumbs . up i liked it just . enough\",\n",
    "        \"i'm going give to it a marginal thumbs up . i liked it just . enough\",\n",
    "        \"i'm going give to it a marginal thumbs up . i liked it just enough .\",\n",
    "        \"i'm going to give it a marginal thumbs up . i liked it just enough .\"\n",
    "    ],\n",
    "    [\n",
    "        \"a\",\n",
    "        \"a deliciously\",\n",
    "        \"a deliciously nonsensical\",\n",
    "        \"a deliciously nonsensical comedy\",\n",
    "        \"a deliciously nonsensical comedy about\",\n",
    "        \"a deliciously nonsensical comedy about a\",\n",
    "        \"a deliciously nonsensical comedy about a city\",\n",
    "        \"a deliciously nonsensical comedy about a city coming\",\n",
    "        \"a deliciously nonsensical comedy about a city coming apart\",\n",
    "        \"a deliciously nonsensical comedy about a city coming apart at\",\n",
    "        \"a deliciously nonsensical comedy about a city coming apart at its\",\n",
    "        \"a deliciously nonsensical comedy about a city coming apart at its seams\",\n",
    "        \"a deliciously nonsensical comedy about a city coming apart at its seams .\",\n",
    "        \"seams .\",\n",
    "        \"its seams .\",\n",
    "        \"at its seams .\",\n",
    "        \"apart at its seams .\",\n",
    "        \"coming apart at its seams .\",\n",
    "        \"city coming apart at its seams .\",\n",
    "        \"a city coming apart at its seams .\",\n",
    "        \"about a city coming apart at its seams .\",\n",
    "        \"comedy about a city coming apart at its seams .\",\n",
    "        \"nonsensical comedy about a city coming apart at its seams .\",\n",
    "        \"deliciously nonsensical comedy about a city coming apart at its seams .\",\n",
    "        \"a deliciously nonsensical comedy about a city coming apart at its seams .\",\n",
    "        \"deliciously a nonsensical comedy a about city coming at apart its .\",\n",
    "        \"deliciously a nonsensical comedy a about city coming at apart its . seams\",\n",
    "        \"a deliciously nonsensical comedy a about city coming at apart its . seams\",\n",
    "        \"a deliciously nonsensical comedy a about coming city at apart its . seams\",\n",
    "        \"a deliciously nonsensical comedy a about city coming at apart its . seams\",\n",
    "        \"a deliciously nonsensical comedy a about city coming at apart its seams .\",\n",
    "        \"a deliciously nonsensical comedy a about city coming apart at its seams .\",\n",
    "        \"a deliciously nonsensical comedy a about coming city apart at its seams .\",\n",
    "        \"a deliciously comedy nonsensical a about coming city apart at its seams .\",\n",
    "        \"a deliciously comedy nonsensical about a coming city apart at its seams .\",\n",
    "        \"a deliciously nonsensical comedy about a coming city apart at its seams .\",\n",
    "        \"a deliciously nonsensical comedy about a city coming apart at its seams .\",\n",
    "        \"a deliciously nonsensical comedy about a coming city apart at its seams .\",\n",
    "        \"a deliciously nonsensical comedy about a city coming apart at its seams .\"\n",
    "    ]\n",
    "]"
   ]
  },
  {
   "cell_type": "code",
   "execution_count": 10,
   "metadata": {
    "collapsed": false
   },
   "outputs": [],
   "source": [
    "distances = {}\n",
    "\n",
    "dimArr = [10, 50, 100]\n",
    "\n",
    "dimIter = 0\n",
    "for dim in dimArr:\n",
    "    distances[dim] = {}\n",
    "    for i in range(len(base)):\n",
    "        index = sentenceDict[base[i]]\n",
    "        sourceEncoding = encodings[dimIter][index][0]\n",
    "        distances[dim][index] = {}\n",
    "        for j in range(len(perms[i])):\n",
    "            targetIndex = sentenceDict[perms[i][j]]\n",
    "            targetEncoding = encodings[dimIter][targetIndex][0]\n",
    "            distances[dim][index][targetIndex] = wasserstein_distance(targetEncoding, sourceEncoding)\n",
    "    dimIter += 1\n",
    "\n",
    "with open('../data/pairwise_wasserstein_permutations.json', 'w') as f:\n",
    "    f.write((json.dumps(distances)))"
   ]
  },
  {
   "cell_type": "markdown",
   "metadata": {},
   "source": [
    "# "
   ]
  }
 ],
 "metadata": {
  "kernelspec": {
   "display_name": "Python 3",
   "language": "python",
   "name": "python3"
  },
  "language_info": {
   "codemirror_mode": {
    "name": "ipython",
    "version": 3
   },
   "file_extension": ".py",
   "mimetype": "text/x-python",
   "name": "python",
   "nbconvert_exporter": "python",
   "pygments_lexer": "ipython3",
   "version": "3.5.2"
  }
 },
 "nbformat": 4,
 "nbformat_minor": 0
}
