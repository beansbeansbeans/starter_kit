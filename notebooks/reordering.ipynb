{
 "cells": [
  {
   "cell_type": "code",
   "execution_count": 6,
   "metadata": {
    "collapsed": true
   },
   "outputs": [],
   "source": [
    "import numpy as np\n",
    "from scipy.spatial.distance import pdist, squareform\n",
    "from sklearn import datasets\n",
    "from fastcluster import linkage\n",
    "\n",
    "def seriation(Z,N,cur_index):\n",
    "    '''\n",
    "        input:\n",
    "            - Z is a hierarchical tree (dendrogram)\n",
    "            - N is the number of points given to the clustering process\n",
    "            - cur_index is the position in the tree for the recursive traversal\n",
    "        output:\n",
    "            - order implied by the hierarchical tree Z\n",
    "            \n",
    "        seriation computes the order implied by a hierarchical tree (dendrogram)\n",
    "    '''\n",
    "    if cur_index < N:\n",
    "        return [cur_index]\n",
    "    else:\n",
    "        left = int(Z[cur_index-N,0])\n",
    "        right = int(Z[cur_index-N,1])\n",
    "        return (seriation(Z,N,left) + seriation(Z,N,right))\n",
    "    \n",
    "def compute_serial_matrix(dist_mat,method=\"ward\"):\n",
    "    '''\n",
    "        input:\n",
    "            - dist_mat is a distance matrix\n",
    "            - method = [\"ward\",\"single\",\"average\",\"complete\"]\n",
    "        output:\n",
    "            - seriated_dist is the input dist_mat,\n",
    "              but with re-ordered rows and columns\n",
    "              according to the seriation, i.e. the\n",
    "              order implied by the hierarchical tree\n",
    "            - res_order is the order implied by\n",
    "              the hierarhical tree\n",
    "            - res_linkage is the hierarhical tree (dendrogram)\n",
    "        \n",
    "        compute_serial_matrix transforms a distance matrix into \n",
    "        a sorted distance matrix according to the order implied \n",
    "        by the hierarchical tree (dendrogram)\n",
    "    '''\n",
    "    N = len(dist_mat)\n",
    "    flat_dist_mat = squareform(dist_mat)\n",
    "    res_linkage = linkage(flat_dist_mat, method=method,preserve_input=True)\n",
    "    res_order = seriation(res_linkage, N, N + N-2)\n",
    "    seriated_dist = np.zeros((N,N))\n",
    "    a,b = np.triu_indices(N,k=1)\n",
    "    seriated_dist[a,b] = dist_mat[ [res_order[i] for i in a], [res_order[j] for j in b]]\n",
    "    seriated_dist[b,a] = seriated_dist[a,b]\n",
    "    \n",
    "    return seriated_dist, res_order, res_linkage"
   ]
  },
  {
   "cell_type": "code",
   "execution_count": 7,
   "metadata": {
    "collapsed": false
   },
   "outputs": [
    {
     "name": "stdout",
     "output_type": "stream",
     "text": [
      "(150, 4)\n",
      "(150, 150)\n",
      "[[0.         1.1045361  4.41701257 ... 4.40567815 1.22474487 0.97467943]\n",
      " [1.1045361  0.         3.91535439 ... 3.87427413 1.37840488 1.00498756]\n",
      " [4.41701257 3.91535439 0.         ... 0.14142136 3.30605505 3.54964787]\n",
      " ...\n",
      " [4.40567815 3.87427413 0.14142136 ... 0.         3.30907842 3.54118624]\n",
      " [1.22474487 1.37840488 3.30605505 ... 3.30907842 0.         0.45825757]\n",
      " [0.97467943 1.00498756 3.54964787 ... 3.54118624 0.45825757 0.        ]]\n"
     ]
    }
   ],
   "source": [
    "iris = datasets.load_iris()\n",
    "print(iris.data.shape)\n",
    "\n",
    "dist_mat = squareform(pdist(iris.data))\n",
    "\n",
    "N = len(iris.data)\n",
    "\n",
    "X = iris.data[np.random.permutation(N),:]\n",
    "\n",
    "dist_mat = squareform(pdist(X))\n",
    "\n",
    "print(dist_mat.shape)\n",
    "print(dist_mat)"
   ]
  },
  {
   "cell_type": "code",
   "execution_count": 11,
   "metadata": {
    "collapsed": false
   },
   "outputs": [
    {
     "name": "stdout",
     "output_type": "stream",
     "text": [
      "Method:\t ward\n",
      "(150, 150)\n",
      "[133, 52, 80, 94, 128, 125, 41, 73, 12, 127, 56, 93, 55, 136, 69, 79, 106, 88, 137, 28, 45, 48, 5, 76, 6, 71, 146, 140, 141, 102, 96, 19, 36, 31, 147, 68, 2, 30, 82, 114, 18, 35, 120, 145, 62, 97, 44, 59, 46, 142, 67, 113, 37, 25, 32, 108, 115, 51, 87, 0, 83, 27, 105, 7, 61, 17, 121, 112, 54, 74, 84, 138, 92, 129, 89, 130, 104, 42, 99, 20, 11, 135, 29, 86, 22, 81, 47, 95, 100, 110, 16, 39, 3, 122, 90, 131, 116, 101, 124, 119, 23, 64, 43, 14, 72, 33, 24, 57, 117, 143, 38, 148, 34, 77, 9, 8, 126, 109, 26, 65, 66, 10, 13, 53, 40, 107, 111, 15, 1, 60, 70, 78, 144, 103, 123, 149, 21, 50, 118, 63, 139, 91, 98, 49, 4, 75, 132, 85, 58, 134]\n",
      "Method:\t single\n",
      "(150, 150)\n",
      "[106, 88, 6, 71, 82, 5, 76, 120, 145, 44, 62, 97, 59, 55, 137, 114, 18, 35, 12, 136, 128, 127, 56, 93, 69, 79, 125, 41, 73, 52, 80, 94, 28, 45, 48, 146, 140, 141, 46, 142, 133, 68, 2, 30, 102, 96, 19, 36, 31, 147, 29, 86, 43, 95, 47, 100, 110, 22, 7, 66, 81, 20, 11, 135, 26, 65, 16, 34, 89, 130, 109, 108, 90, 116, 85, 131, 149, 21, 50, 118, 98, 119, 23, 64, 101, 124, 38, 33, 72, 14, 24, 57, 39, 3, 122, 148, 117, 143, 91, 144, 112, 15, 1, 60, 63, 139, 103, 123, 70, 78, 58, 134, 49, 4, 75, 132, 10, 13, 53, 77, 9, 8, 126, 40, 107, 111, 115, 51, 87, 84, 138, 37, 25, 32, 67, 113, 92, 129, 83, 27, 105, 61, 17, 121, 0, 54, 74, 104, 42, 99]\n",
      "Method:\t average\n",
      "(150, 150)\n",
      "[106, 6, 71, 5, 76, 59, 62, 97, 146, 140, 141, 133, 102, 96, 19, 36, 31, 147, 68, 2, 30, 82, 120, 145, 44, 46, 142, 114, 18, 35, 88, 137, 28, 45, 48, 55, 136, 69, 79, 52, 80, 94, 128, 125, 41, 73, 12, 127, 56, 93, 61, 17, 121, 0, 83, 27, 105, 54, 74, 84, 138, 92, 129, 115, 51, 87, 108, 37, 25, 32, 67, 113, 7, 66, 22, 29, 86, 20, 11, 135, 81, 89, 130, 104, 42, 99, 47, 95, 100, 110, 70, 78, 103, 123, 112, 144, 15, 1, 60, 85, 58, 134, 149, 21, 50, 118, 91, 63, 139, 109, 26, 65, 34, 77, 9, 8, 126, 49, 4, 75, 132, 10, 13, 53, 40, 107, 111, 43, 16, 39, 3, 122, 98, 14, 72, 33, 24, 57, 117, 143, 38, 148, 90, 131, 116, 101, 124, 119, 23, 64]\n",
      "Method:\t complete\n",
      "(150, 150)\n",
      "[89, 130, 104, 42, 99, 20, 11, 135, 29, 86, 22, 81, 67, 113, 37, 25, 32, 108, 51, 87, 115, 54, 74, 84, 138, 92, 129, 7, 83, 27, 105, 61, 17, 121, 49, 4, 75, 132, 34, 77, 9, 8, 126, 66, 0, 10, 13, 53, 40, 107, 111, 109, 26, 65, 70, 78, 144, 103, 123, 112, 15, 1, 60, 85, 58, 134, 63, 139, 149, 21, 50, 118, 47, 95, 100, 110, 43, 117, 143, 38, 148, 91, 98, 39, 3, 122, 14, 72, 33, 24, 57, 16, 90, 131, 116, 101, 124, 119, 23, 64, 106, 69, 79, 128, 80, 94, 52, 125, 41, 73, 133, 68, 2, 30, 31, 147, 102, 96, 19, 36, 88, 12, 28, 127, 56, 93, 137, 45, 48, 44, 5, 76, 6, 71, 120, 145, 62, 97, 59, 46, 142, 82, 114, 18, 35, 146, 140, 141, 55, 136]\n"
     ]
    }
   ],
   "source": [
    "methods = [\"ward\",\"single\",\"average\",\"complete\"]\n",
    "for method in methods:\n",
    "    print(\"Method:\\t\",method)\n",
    "    \n",
    "    ordered_dist_mat, res_order, res_linkage = compute_serial_matrix(dist_mat,method)\n",
    "    print(ordered_dist_mat.shape)\n",
    "    print(res_order)"
   ]
  },
  {
   "cell_type": "code",
   "execution_count": null,
   "metadata": {
    "collapsed": true
   },
   "outputs": [],
   "source": []
  }
 ],
 "metadata": {
  "kernelspec": {
   "display_name": "Python 3",
   "language": "python",
   "name": "python3"
  },
  "language_info": {
   "codemirror_mode": {
    "name": "ipython",
    "version": 3
   },
   "file_extension": ".py",
   "mimetype": "text/x-python",
   "name": "python",
   "nbconvert_exporter": "python",
   "pygments_lexer": "ipython3",
   "version": "3.5.2"
  }
 },
 "nbformat": 4,
 "nbformat_minor": 0
}
