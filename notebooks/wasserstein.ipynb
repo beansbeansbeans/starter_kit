{
 "cells": [
  {
   "cell_type": "code",
   "execution_count": 5,
   "metadata": {
    "collapsed": false
   },
   "outputs": [
    {
     "data": {
      "text/plain": [
       "5.0"
      ]
     },
     "execution_count": 5,
     "metadata": {},
     "output_type": "execute_result"
    }
   ],
   "source": [
    "from scipy.stats import wasserstein_distance\n",
    "import numpy as np\n",
    "import pandas as pd\n",
    "\n",
    "wasserstein_distance([0, 1, 3], [5, 6, 8])"
   ]
  },
  {
   "cell_type": "code",
   "execution_count": 28,
   "metadata": {
    "collapsed": false
   },
   "outputs": [
    {
     "name": "stdout",
     "output_type": "stream",
     "text": [
      "yes they can swim , the title is merely anne-sophie birot's off-handed way of saying girls find adolescence difficult to wade through .\n",
      "500\n"
     ]
    }
   ],
   "source": [
    "sentences = np.array(pd.DataFrame(pd.read_json('../data/distance_matrix_sentences.json')))\n",
    "\n",
    "num_sentences = len(sentences)\n",
    "\n",
    "print(sentences[0][1])\n",
    "print(num_sentences)"
   ]
  },
  {
   "cell_type": "code",
   "execution_count": 29,
   "metadata": {
    "collapsed": false
   },
   "outputs": [
    {
     "data": {
      "text/plain": [
       "0.013269946723594144"
      ]
     },
     "execution_count": 29,
     "metadata": {},
     "output_type": "execute_result"
    }
   ],
   "source": [
    "wasserstein_distance(sentences[0][0], sentences[1][0])"
   ]
  },
  {
   "cell_type": "code",
   "execution_count": 30,
   "metadata": {
    "collapsed": false
   },
   "outputs": [],
   "source": [
    "distances = []\n",
    "\n",
    "# num_sentences = 5\n",
    "\n",
    "for i in range(num_sentences):\n",
    "    distances.append({})\n",
    "\n",
    "for i in range(num_sentences):\n",
    "    for j in range(i + 1, num_sentences):\n",
    "        distances[i][j] = wasserstein_distance(sentences[i][0], sentences[j][0])"
   ]
  },
  {
   "cell_type": "code",
   "execution_count": 31,
   "metadata": {
    "collapsed": false
   },
   "outputs": [],
   "source": [
    "import json\n",
    "\n",
    "with open('../data/distance_matrix_wasserstein_100.json', 'w') as f:\n",
    "    f.write((json.dumps(distances)))"
   ]
  },
  {
   "cell_type": "code",
   "execution_count": null,
   "metadata": {
    "collapsed": true
   },
   "outputs": [],
   "source": []
  }
 ],
 "metadata": {
  "kernelspec": {
   "display_name": "Python 3",
   "language": "python",
   "name": "python3"
  },
  "language_info": {
   "codemirror_mode": {
    "name": "ipython",
    "version": 3
   },
   "file_extension": ".py",
   "mimetype": "text/x-python",
   "name": "python",
   "nbconvert_exporter": "python",
   "pygments_lexer": "ipython3",
   "version": "3.5.2"
  }
 },
 "nbformat": 4,
 "nbformat_minor": 0
}
