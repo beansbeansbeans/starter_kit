{
 "cells": [
  {
   "cell_type": "code",
   "execution_count": 3,
   "metadata": {
    "collapsed": true
   },
   "outputs": [],
   "source": [
    "import numpy as np\n",
    "import pandas as pd\n",
    "from sklearn.manifold import TSNE"
   ]
  },
  {
   "cell_type": "code",
   "execution_count": 21,
   "metadata": {
    "collapsed": false
   },
   "outputs": [
    {
     "name": "stdout",
     "output_type": "stream",
     "text": [
      "[[-0.06207155  0.29690531 -0.0715204  ...  0.09733466  0.11531547\n",
      "   0.01098591]\n",
      " [ 0.15225989  0.06758711 -0.10806116 ...  0.06457837  0.17347728\n",
      "  -0.02223845]\n",
      " [-0.06841425  0.21225721 -0.08432967 ... -0.25128713 -0.25299966\n",
      "   0.00606984]\n",
      " ...\n",
      " [ 0.01144419 -0.00577939  0.0033987  ...  0.012662   -0.0312885\n",
      "  -0.02451875]\n",
      " [ 0.01532059  0.01049089  0.00996789 ...  0.03135022 -0.0553405\n",
      "  -0.00621481]\n",
      " [-0.03134927 -0.00152041  0.02392261 ... -0.00230588 -0.01188092\n",
      "   0.01661059]]\n",
      "200\n",
      "416\n",
      "(200, 416)\n",
      "(200, 1)\n"
     ]
    }
   ],
   "source": [
    "data = np.vstack(pd.DataFrame(pd.read_json('../data/didion_encodings_pca_500.json'))['encoding'])\n",
    "\n",
    "data = np.swapaxes(data, 0, 1)\n",
    "\n",
    "print(data)\n",
    "print(len(data))\n",
    "print(len(data[0]))\n",
    "print(data.shape)\n",
    "\n",
    "data_embedded = TSNE(n_components=1).fit_transform(data)\n",
    "print(data_embedded.shape)"
   ]
  },
  {
   "cell_type": "code",
   "execution_count": 22,
   "metadata": {
    "collapsed": false
   },
   "outputs": [],
   "source": [
    "import json\n",
    "\n",
    "output = []\n",
    "for x in data_embedded:\n",
    "    output.append(np.float64(x[0]))\n",
    "\n",
    "with open('../data/didion_tsne.json', 'w') as f:\n",
    "    f.write((json.dumps(output)))"
   ]
  },
  {
   "cell_type": "code",
   "execution_count": null,
   "metadata": {
    "collapsed": true
   },
   "outputs": [],
   "source": []
  }
 ],
 "metadata": {
  "kernelspec": {
   "display_name": "Python 3",
   "language": "python",
   "name": "python3"
  },
  "language_info": {
   "codemirror_mode": {
    "name": "ipython",
    "version": 3
   },
   "file_extension": ".py",
   "mimetype": "text/x-python",
   "name": "python",
   "nbconvert_exporter": "python",
   "pygments_lexer": "ipython3",
   "version": "3.5.2"
  }
 },
 "nbformat": 4,
 "nbformat_minor": 0
}
